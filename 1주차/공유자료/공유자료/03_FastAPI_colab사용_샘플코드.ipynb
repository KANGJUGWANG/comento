{
  "cells": [
    {
      "cell_type": "markdown",
      "source": [
        "- fastapi는 무엇이고, 언제 사용을 하는지등 기본적인 이론도 같이 공부하면 좋을 것 같습니다.\n",
        "  - FastAPI , uvicorn , ..."
      ],
      "metadata": {
        "id": "h00KmoOp9GSp"
      }
    },
    {
      "cell_type": "markdown",
      "metadata": {
        "id": "vrEoPB7rbhsW"
      },
      "source": [
        "### 01. 필요한 라이브러리 설치"
      ]
    },
    {
      "cell_type": "code",
      "execution_count": null,
      "metadata": {
        "colab": {
          "background_save": true,
          "base_uri": "https://localhost:8080/"
        },
        "id": "-pgTUQ-gbkVs",
        "outputId": "dc55c2c6-af23-4790-e758-36cec875ebdc"
      },
      "outputs": [
        {
          "name": "stdout",
          "output_type": "stream",
          "text": [
            "\u001b[2K   \u001b[90m━━━━━━━━━━━━━━━━━━━━━━━━━━━━━━━━━━━━━━━━\u001b[0m \u001b[32m93.5/93.5 kB\u001b[0m \u001b[31m3.9 MB/s\u001b[0m eta \u001b[36m0:00:00\u001b[0m\n",
            "\u001b[2K   \u001b[90m━━━━━━━━━━━━━━━━━━━━━━━━━━━━━━━━━━━━━━━━\u001b[0m \u001b[32m72.0/72.0 kB\u001b[0m \u001b[31m1.4 MB/s\u001b[0m eta \u001b[36m0:00:00\u001b[0m\n",
            "\u001b[2K   \u001b[90m━━━━━━━━━━━━━━━━━━━━━━━━━━━━━━━━━━━━━━━━\u001b[0m \u001b[32m62.8/62.8 kB\u001b[0m \u001b[31m1.6 MB/s\u001b[0m eta \u001b[36m0:00:00\u001b[0m\n",
            "\u001b[2K   \u001b[90m━━━━━━━━━━━━━━━━━━━━━━━━━━━━━━━━━━━━━━━━\u001b[0m \u001b[32m58.3/58.3 kB\u001b[0m \u001b[31m1.8 MB/s\u001b[0m eta \u001b[36m0:00:00\u001b[0m\n",
            "\u001b[?25hRequirement already satisfied: torch in /usr/local/lib/python3.10/dist-packages (2.4.0+cu121)\n",
            "Requirement already satisfied: filelock in /usr/local/lib/python3.10/dist-packages (from torch) (3.15.4)\n",
            "Requirement already satisfied: typing-extensions>=4.8.0 in /usr/local/lib/python3.10/dist-packages (from torch) (4.12.2)\n",
            "Requirement already satisfied: sympy in /usr/local/lib/python3.10/dist-packages (from torch) (1.13.2)\n",
            "Requirement already satisfied: networkx in /usr/local/lib/python3.10/dist-packages (from torch) (3.3)\n",
            "Requirement already satisfied: jinja2 in /usr/local/lib/python3.10/dist-packages (from torch) (3.1.4)\n",
            "Requirement already satisfied: fsspec in /usr/local/lib/python3.10/dist-packages (from torch) (2024.6.1)\n",
            "Requirement already satisfied: MarkupSafe>=2.0 in /usr/local/lib/python3.10/dist-packages (from jinja2->torch) (2.1.5)\n",
            "Requirement already satisfied: mpmath<1.4,>=1.1.0 in /usr/local/lib/python3.10/dist-packages (from sympy->torch) (1.3.0)\n",
            "Collecting python-multipart\n",
            "  Downloading python_multipart-0.0.9-py3-none-any.whl.metadata (2.5 kB)\n",
            "Downloading python_multipart-0.0.9-py3-none-any.whl (22 kB)\n",
            "Installing collected packages: python-multipart\n",
            "Successfully installed python-multipart-0.0.9\n",
            "Requirement already satisfied: fastapi in /usr/local/lib/python3.10/dist-packages (0.112.2)\n",
            "Requirement already satisfied: nest-asyncio in /usr/local/lib/python3.10/dist-packages (1.6.0)\n",
            "Collecting pyngrok\n",
            "  Downloading pyngrok-7.2.0-py3-none-any.whl.metadata (7.4 kB)\n",
            "Requirement already satisfied: uvicorn in /usr/local/lib/python3.10/dist-packages (0.30.6)\n",
            "Requirement already satisfied: starlette<0.39.0,>=0.37.2 in /usr/local/lib/python3.10/dist-packages (from fastapi) (0.38.2)\n",
            "Requirement already satisfied: pydantic!=1.8,!=1.8.1,!=2.0.0,!=2.0.1,!=2.1.0,<3.0.0,>=1.7.4 in /usr/local/lib/python3.10/dist-packages (from fastapi) (2.8.2)\n",
            "Requirement already satisfied: typing-extensions>=4.8.0 in /usr/local/lib/python3.10/dist-packages (from fastapi) (4.12.2)\n",
            "Requirement already satisfied: PyYAML>=5.1 in /usr/local/lib/python3.10/dist-packages (from pyngrok) (6.0.2)\n",
            "Requirement already satisfied: click>=7.0 in /usr/local/lib/python3.10/dist-packages (from uvicorn) (8.1.7)\n",
            "Requirement already satisfied: h11>=0.8 in /usr/local/lib/python3.10/dist-packages (from uvicorn) (0.14.0)\n",
            "Requirement already satisfied: annotated-types>=0.4.0 in /usr/local/lib/python3.10/dist-packages (from pydantic!=1.8,!=1.8.1,!=2.0.0,!=2.0.1,!=2.1.0,<3.0.0,>=1.7.4->fastapi) (0.7.0)\n",
            "Requirement already satisfied: pydantic-core==2.20.1 in /usr/local/lib/python3.10/dist-packages (from pydantic!=1.8,!=1.8.1,!=2.0.0,!=2.0.1,!=2.1.0,<3.0.0,>=1.7.4->fastapi) (2.20.1)\n",
            "Requirement already satisfied: anyio<5,>=3.4.0 in /usr/local/lib/python3.10/dist-packages (from starlette<0.39.0,>=0.37.2->fastapi) (3.7.1)\n",
            "Requirement already satisfied: idna>=2.8 in /usr/local/lib/python3.10/dist-packages (from anyio<5,>=3.4.0->starlette<0.39.0,>=0.37.2->fastapi) (3.8)\n",
            "Requirement already satisfied: sniffio>=1.1 in /usr/local/lib/python3.10/dist-packages (from anyio<5,>=3.4.0->starlette<0.39.0,>=0.37.2->fastapi) (1.3.1)\n",
            "Requirement already satisfied: exceptiongroup in /usr/local/lib/python3.10/dist-packages (from anyio<5,>=3.4.0->starlette<0.39.0,>=0.37.2->fastapi) (1.2.2)\n",
            "Downloading pyngrok-7.2.0-py3-none-any.whl (22 kB)\n",
            "Installing collected packages: pyngrok\n",
            "Successfully installed pyngrok-7.2.0\n"
          ]
        }
      ],
      "source": [
        "!pip install FastAPI -q\n",
        "!pip install uvicorn -q\n",
        "!pip install torch\n",
        "!pip install python-multipart\n",
        "!pip install fastapi nest-asyncio pyngrok uvicorn"
      ]
    },
    {
      "cell_type": "markdown",
      "metadata": {
        "id": "OOa0k32abtEb"
      },
      "source": [
        "### 02. FastAPI 실행"
      ]
    },
    {
      "cell_type": "markdown",
      "metadata": {
        "id": "J0mVzUG-0g-V"
      },
      "source": [
        "- 학습때 설치했던 yolov5 폴더가 있는 경로로 이동해주세요."
      ]
    },
    {
      "cell_type": "code",
      "execution_count": null,
      "metadata": {
        "colab": {
          "background_save": true,
          "base_uri": "https://localhost:8080/"
        },
        "id": "co6tfOuX0GEv",
        "outputId": "492e26f2-7cb2-4ff0-b5c5-566fd637d9a3"
      },
      "outputs": [
        {
          "name": "stdout",
          "output_type": "stream",
          "text": [
            "/content/drive/MyDrive/comento/1\n"
          ]
        }
      ],
      "source": [
        "cd /content/drive/MyDrive/comento/1"
      ]
    },
    {
      "cell_type": "markdown",
      "metadata": {
        "id": "3szjjy6PHdcC"
      },
      "source": [
        "- 학습한 모델을 로드해줍니다."
      ]
    },
    {
      "cell_type": "code",
      "execution_count": null,
      "metadata": {
        "colab": {
          "base_uri": "https://localhost:8080/"
        },
        "id": "tt_9tmwOd4dZ",
        "outputId": "20809f2c-989b-46fa-fc51-bacfe6a5bec5"
      },
      "outputs": [
        {
          "name": "stderr",
          "output_type": "stream",
          "text": [
            "YOLOv5 🚀 v7.0-362-ge8a30cf8 Python-3.10.12 torch-2.4.0+cu121 CUDA:0 (Tesla T4, 15102MiB)\n",
            "\n",
            "Fusing layers... \n",
            "YOLOv5s summary: 157 layers, 7012822 parameters, 0 gradients, 15.8 GFLOPs\n",
            "Adding AutoShape... \n"
          ]
        }
      ],
      "source": [
        "import os\n",
        "import torch\n",
        "import uvicorn\n",
        "import nest_asyncio\n",
        "\n",
        "from PIL import Image\n",
        "from io import BytesIO\n",
        "from pyngrok import ngrok\n",
        "from torchvision import transforms\n",
        "from fastapi import FastAPI, File, UploadFile\n",
        "\n",
        "# FastAPI 앱 생성\n",
        "app = FastAPI()\n",
        "\n",
        "# YOLOv5 모델 로드\n",
        "model = torch.hub.load('yolov5', 'custom', path='...', source='local')  # 학습한 모델의 경로를 'path'인자에 넣어주세요 (ex, 'yolov5/runs/train/yolov5s_results4/weights/best.pt')\n",
        "model.conf = 0.5  # 신뢰도 임계값 설정\n",
        "\n",
        "# ngrok 인증 토큰 설정\n",
        "authtoken = \"...\" # 자신의 인증 토큰으로 변경하세요\n",
        "ngrok.set_auth_token(authtoken)"
      ]
    },
    {
      "cell_type": "markdown",
      "metadata": {
        "id": "qVD6ykzkHhW0"
      },
      "source": [
        "### fastapi 실행 함수 구현\n",
        "- Input : 이미지 경로\n",
        "- Output : 자유롭게 아이디어를 내서 결과를 출력시켜주세요.\n",
        "  - 차량 정체 문제를 파악하기 위한 값으로 출력해주세요.\n",
        "  - 예를 들어, 차량 개수 파악 / 차량 전체 면적 또는 비율 등 다양한 아이디어를 생각해서 구현해주세요."
      ]
    },
    {
      "cell_type": "code",
      "execution_count": null,
      "metadata": {
        "colab": {
          "base_uri": "https://localhost:8080/"
        },
        "id": "4wDxrTcg0yZv",
        "outputId": "9f8c067d-0dd5-4d68-ed79-ebc862c17582"
      },
      "outputs": [
        {
          "name": "stderr",
          "output_type": "stream",
          "text": [
            "INFO:     Started server process [16604]\n",
            "INFO:     Waiting for application startup.\n",
            "INFO:     Application startup complete.\n",
            "INFO:     Uvicorn running on http://0.0.0.0:8000 (Press CTRL+C to quit)\n"
          ]
        },
        {
          "name": "stdout",
          "output_type": "stream",
          "text": [
            "Public URL: NgrokTunnel: \"https://9d5e-34-124-227-111.ngrok-free.app\" -> \"http://localhost:8000\"\n",
            "INFO:     1.212.63.210:0 - \"GET / HTTP/1.1\" 404 Not Found\n",
            "INFO:     1.212.63.210:0 - \"GET /favicon.ico HTTP/1.1\" 404 Not Found\n",
            "INFO:     1.212.63.210:0 - \"GET /docs HTTP/1.1\" 200 OK\n",
            "INFO:     1.212.63.210:0 - \"GET /openapi.json HTTP/1.1\" 200 OK\n"
          ]
        },
        {
          "name": "stderr",
          "output_type": "stream",
          "text": [
            "/content/drive/MyDrive/comento/1/yolov5/models/common.py:892: FutureWarning: `torch.cuda.amp.autocast(args...)` is deprecated. Please use `torch.amp.autocast('cuda', args...)` instead.\n",
            "  with amp.autocast(autocast):\n",
            "WARNING ⚠️ NMS time limit 0.550s exceeded\n"
          ]
        },
        {
          "name": "stdout",
          "output_type": "stream",
          "text": [
            "INFO:     1.212.63.210:0 - \"POST /detect HTTP/1.1\" 200 OK\n"
          ]
        },
        {
          "name": "stderr",
          "output_type": "stream",
          "text": [
            "INFO:     Shutting down\n",
            "INFO:     Finished server process [16604]\n"
          ]
        }
      ],
      "source": [
        "@app.post('/detect')\n",
        "async def detect_api(file: UploadFile = File(...)):\n",
        "\n",
        "    # 비동기적으로 파일 읽기\n",
        "    image_bytes = await file.read()\n",
        "\n",
        "    try:\n",
        "        # RGB형태로 이미지 열기\n",
        "        # 코드 입력해주세요.\n",
        "\n",
        "        # YOLOv5 모델 추론\n",
        "        # 코드 입력해주세요.\n",
        "        results = ''' '''\n",
        "\n",
        "        # 결과 처리 (원하는 결과물로 수정해도 좋습니다.)\n",
        "        detections_list = []\n",
        "        for index, row in results.iterrows():\n",
        "            detections_list.append({\n",
        "                \"x1\": float(row['xmin']),\n",
        "                \"y1\": float(row['ymin']),\n",
        "                \"x2\": float(row['xmax']),\n",
        "                \"y2\": float(row['ymax']),\n",
        "                \"confidence\": float(row['confidence']),\n",
        "                \"class\": int(row['class'])\n",
        "            })\n",
        "\n",
        "        return {\"detections\": detections_list}\n",
        "\n",
        "    except Exception as e:\n",
        "        return {\"error\": \"이미지 처리 실패\", \"details\": str(e)}\n",
        "\n",
        "# ngrok 터널 설정\n",
        "port = 8000\n",
        "public_url = ngrok.connect(port)\n",
        "print(f\"Public URL: {public_url}\")\n",
        "\n",
        "# colab에서 비동기 실행 문제 해결\n",
        "nest_asyncio.apply()\n",
        "\n",
        "# FastAPI 서버 실행\n",
        "uvicorn.run(app, host=\"0.0.0.0\", port=port)\n"
      ]
    },
    {
      "cell_type": "code",
      "execution_count": null,
      "metadata": {
        "id": "yvECP2wo6wZD"
      },
      "outputs": [],
      "source": []
    }
  ],
  "metadata": {
    "accelerator": "GPU",
    "colab": {
      "gpuType": "T4",
      "provenance": []
    },
    "kernelspec": {
      "display_name": "Python 3",
      "name": "python3"
    },
    "language_info": {
      "name": "python"
    }
  },
  "nbformat": 4,
  "nbformat_minor": 0
}